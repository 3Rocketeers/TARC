{
  "nbformat": 4,
  "nbformat_minor": 0,
  "metadata": {
    "colab": {
      "name": "AltitiudeLearning.ipynb",
      "provenance": [],
      "collapsed_sections": [],
      "authorship_tag": "ABX9TyMGXSyqweTP/0ZNDyDU42sv",
      "include_colab_link": true
    },
    "kernelspec": {
      "name": "python3",
      "display_name": "Python 3"
    }
  },
  "cells": [
    {
      "cell_type": "markdown",
      "metadata": {
        "id": "view-in-github",
        "colab_type": "text"
      },
      "source": [
        "<a href=\"https://colab.research.google.com/github/Kyrylo-Bakumenko/TARC/blob/master/AltitiudeLearning.ipynb\" target=\"_parent\"><img src=\"https://colab.research.google.com/assets/colab-badge.svg\" alt=\"Open In Colab\"/></a>"
      ]
    },
    {
      "cell_type": "code",
      "metadata": {
        "id": "PxdHagFu2otG"
      },
      "source": [
        "import pandas as pd\n",
        "import matplotlib.pyplot as plt\n",
        "import numpy as np"
      ],
      "execution_count": null,
      "outputs": []
    },
    {
      "cell_type": "code",
      "metadata": {
        "id": "gtuL0P6CidOH"
      },
      "source": [
        "from filterpy.kalman import FixedLagSmoother, KalmanFilter\n",
        "import numpy.random as random\n",
        "\n",
        "def kf_smooth(zs):\n",
        "  fls = FixedLagSmoother(dim_x=2, dim_z=1, N=10)\n",
        "\n",
        "  fls.x = np.array([0., .5])\n",
        "  fls.F = np.array([[1.,1.],\n",
        "                    [0.,1.]])\n",
        "\n",
        "  fls.H = np.array([[1.,0.]])\n",
        "  fls.P *= 200\n",
        "  fls.R *= 5.\n",
        "  fls.Q *= 0.001\n",
        "\n",
        "  kf = KalmanFilter(dim_x=2, dim_z=1)\n",
        "  kf.x = np.array([0., .5])\n",
        "  kf.F = np.array([[1.,1.],\n",
        "                  [0.,1.]])\n",
        "  kf.H = np.array([[1.,0.]])\n",
        "  kf.P *= 200\n",
        "  kf.R *= 5.\n",
        "  kf.Q *= 0.001\n",
        "\n",
        "  N = 4 # size of lag\n",
        "\n",
        "  # nom =  df['Time'][1:]\n",
        "  # zs = df.Altitude[1:]\n",
        "  # zs = df.Velocity[1:]\n",
        "\n",
        "  for z in zs:\n",
        "      fls.smooth(z)\n",
        "      \n",
        "  kf_x, _, _, _ = kf.batch_filter(zs)\n",
        "  x_smooth = np.array(fls.xSmooth)[:, 0]\n",
        "\n",
        "  return x_smooth, kf_x[:, 0]"
      ],
      "execution_count": null,
      "outputs": []
    },
    {
      "cell_type": "code",
      "metadata": {
        "id": "0WEq2tsw2y-b",
        "colab": {
          "base_uri": "https://localhost:8080/",
          "height": 406
        },
        "outputId": "f14e2c72-4fd4-4dfb-f411-91ee819f448b"
      },
      "source": [
        "# time\n",
        "# t - 1\n",
        "# acc\n",
        "# acc - 1\n",
        "# alt\n",
        "# alt - 1\n",
        "\n",
        "data = pd.read_csv('/content/TARC Rocket lauch - pnut_data.csv')\n",
        "data.drop(labels=['date', 'temp_orig', 'temp', 'volt', 'flight_time', 'date_flight'], axis='columns', inplace=True)\n",
        "# flight #1 was a failure\n",
        "flight_1 = data[data.flight == 2][data.alt > 0].reset_index().drop(labels=['index'], axis = 1)\n",
        "flight_2 = data[data.flight == 3].reset_index().drop(labels=['index'], axis = 1)\n",
        "flight_3 = data[data.flight == 4].reset_index().drop(labels=['index'], axis = 1)\n",
        "print(flight_1.head(), '\\n\\n', flight_2.head(), '\\n\\n', flight_3.head())\n"
      ],
      "execution_count": null,
      "outputs": [
        {
          "output_type": "stream",
          "text": [
            "   flight  time  alt\n",
            "0       2  0.00    1\n",
            "1       2  0.15    1\n",
            "2       2  0.20    1\n",
            "3       2  0.30    1\n",
            "4       2  0.45    1 \n",
            "\n",
            "    flight  time  alt\n",
            "0       3  0.00    0\n",
            "1       3  0.05    0\n",
            "2       3  0.10    0\n",
            "3       3  0.15    0\n",
            "4       3  0.20    0 \n",
            "\n",
            "    flight  time  alt\n",
            "0       4  0.00   -2\n",
            "1       4  0.05   -1\n",
            "2       4  0.10   -1\n",
            "3       4  0.15    0\n",
            "4       4  0.20    0\n"
          ],
          "name": "stdout"
        },
        {
          "output_type": "stream",
          "text": [
            "/usr/local/lib/python3.6/dist-packages/ipykernel_launcher.py:11: UserWarning: Boolean Series key will be reindexed to match DataFrame index.\n",
            "  # This is added back by InteractiveShellApp.init_path()\n"
          ],
          "name": "stderr"
        }
      ]
    },
    {
      "cell_type": "code",
      "metadata": {
        "id": "AfDO9kR0izm8",
        "colab": {
          "base_uri": "https://localhost:8080/",
          "height": 402
        },
        "outputId": "3f72c2d5-c343-4fdc-e22e-1584a1149322"
      },
      "source": [
        "alt_smooth, _ = kf_smooth(flight_1.alt)\n",
        "flight_1.alt = alt_smooth\n",
        "flight_1.rename({'alt' : 'alt_smooth'}, inplace=True, axis = 1)\n",
        "flight_1"
      ],
      "execution_count": null,
      "outputs": [
        {
          "output_type": "execute_result",
          "data": {
            "text/html": [
              "<div>\n",
              "<style scoped>\n",
              "    .dataframe tbody tr th:only-of-type {\n",
              "        vertical-align: middle;\n",
              "    }\n",
              "\n",
              "    .dataframe tbody tr th {\n",
              "        vertical-align: top;\n",
              "    }\n",
              "\n",
              "    .dataframe thead th {\n",
              "        text-align: right;\n",
              "    }\n",
              "</style>\n",
              "<table border=\"1\" class=\"dataframe\">\n",
              "  <thead>\n",
              "    <tr style=\"text-align: right;\">\n",
              "      <th></th>\n",
              "      <th>flight</th>\n",
              "      <th>time</th>\n",
              "      <th>alt_smooth</th>\n",
              "    </tr>\n",
              "  </thead>\n",
              "  <tbody>\n",
              "    <tr>\n",
              "      <th>0</th>\n",
              "      <td>2</td>\n",
              "      <td>0.00</td>\n",
              "      <td>0.993827</td>\n",
              "    </tr>\n",
              "    <tr>\n",
              "      <th>1</th>\n",
              "      <td>2</td>\n",
              "      <td>0.15</td>\n",
              "      <td>1.033509</td>\n",
              "    </tr>\n",
              "    <tr>\n",
              "      <th>2</th>\n",
              "      <td>2</td>\n",
              "      <td>0.20</td>\n",
              "      <td>1.016268</td>\n",
              "    </tr>\n",
              "    <tr>\n",
              "      <th>3</th>\n",
              "      <td>2</td>\n",
              "      <td>0.30</td>\n",
              "      <td>0.996657</td>\n",
              "    </tr>\n",
              "    <tr>\n",
              "      <th>4</th>\n",
              "      <td>2</td>\n",
              "      <td>0.45</td>\n",
              "      <td>0.973258</td>\n",
              "    </tr>\n",
              "    <tr>\n",
              "      <th>...</th>\n",
              "      <td>...</td>\n",
              "      <td>...</td>\n",
              "      <td>...</td>\n",
              "    </tr>\n",
              "    <tr>\n",
              "      <th>541</th>\n",
              "      <td>2</td>\n",
              "      <td>27.45</td>\n",
              "      <td>8.136769</td>\n",
              "    </tr>\n",
              "    <tr>\n",
              "      <th>542</th>\n",
              "      <td>2</td>\n",
              "      <td>27.50</td>\n",
              "      <td>6.267821</td>\n",
              "    </tr>\n",
              "    <tr>\n",
              "      <th>543</th>\n",
              "      <td>2</td>\n",
              "      <td>27.55</td>\n",
              "      <td>4.398069</td>\n",
              "    </tr>\n",
              "    <tr>\n",
              "      <th>544</th>\n",
              "      <td>2</td>\n",
              "      <td>27.60</td>\n",
              "      <td>2.525313</td>\n",
              "    </tr>\n",
              "    <tr>\n",
              "      <th>545</th>\n",
              "      <td>2</td>\n",
              "      <td>27.85</td>\n",
              "      <td>0.985112</td>\n",
              "    </tr>\n",
              "  </tbody>\n",
              "</table>\n",
              "<p>546 rows × 3 columns</p>\n",
              "</div>"
            ],
            "text/plain": [
              "     flight   time  alt_smooth\n",
              "0         2   0.00    0.993827\n",
              "1         2   0.15    1.033509\n",
              "2         2   0.20    1.016268\n",
              "3         2   0.30    0.996657\n",
              "4         2   0.45    0.973258\n",
              "..      ...    ...         ...\n",
              "541       2  27.45    8.136769\n",
              "542       2  27.50    6.267821\n",
              "543       2  27.55    4.398069\n",
              "544       2  27.60    2.525313\n",
              "545       2  27.85    0.985112\n",
              "\n",
              "[546 rows x 3 columns]"
            ]
          },
          "metadata": {
            "tags": []
          },
          "execution_count": 94
        }
      ]
    },
    {
      "cell_type": "code",
      "metadata": {
        "id": "KKV_as_B20Xa"
      },
      "source": [
        "def pva(pos, vel, acc):\n",
        "  dT = abs(vel/acc)\n",
        "  return pos + vel*dT + 0.5*acc*dT**2\n",
        "\n",
        "def Apogee(t0, t1, t2, p0, p1, p2, a=None, a1=None):\n",
        "  dT1 = t0-t1\n",
        "  v1 = (p0-p1)/dT1\n",
        "  if not a:\n",
        "    dT2 = t1-t2\n",
        "    v2 = (p1-p2)/dT2\n",
        "    a1 = (v1-v2)/dT2\n",
        "  # print(p0, v1, a1)\n",
        "  return pva(p0, v1, a1)"
      ],
      "execution_count": null,
      "outputs": []
    },
    {
      "cell_type": "code",
      "metadata": {
        "id": "YBIjD-Ap3iNr"
      },
      "source": [
        "flight_1['time1'] = flight_1.time.shift(4)\n",
        "flight_1['time2'] = flight_1.time.shift(8)\n",
        "flight_1['alt_smooth1'] = flight_1.alt_smooth.shift(4)\n",
        "flight_1['alt_smooth2'] = flight_1.alt_smooth.shift(8)"
      ],
      "execution_count": null,
      "outputs": []
    },
    {
      "cell_type": "code",
      "metadata": {
        "id": "80HNXBe13eMi"
      },
      "source": [
        "flight_1['Apogee'] = flight_1.apply(lambda r: Apogee(r['time'], r['time1'], r['time2'], r['alt_smooth'], r['alt_smooth1'], r['alt_smooth2']), axis=1)"
      ],
      "execution_count": null,
      "outputs": []
    },
    {
      "cell_type": "code",
      "metadata": {
        "id": "yTioF6kSlwCU",
        "colab": {
          "base_uri": "https://localhost:8080/",
          "height": 402
        },
        "outputId": "2b4973ae-9a17-4097-e611-b28458acdb9a"
      },
      "source": [
        "flight_1"
      ],
      "execution_count": null,
      "outputs": [
        {
          "output_type": "execute_result",
          "data": {
            "text/html": [
              "<div>\n",
              "<style scoped>\n",
              "    .dataframe tbody tr th:only-of-type {\n",
              "        vertical-align: middle;\n",
              "    }\n",
              "\n",
              "    .dataframe tbody tr th {\n",
              "        vertical-align: top;\n",
              "    }\n",
              "\n",
              "    .dataframe thead th {\n",
              "        text-align: right;\n",
              "    }\n",
              "</style>\n",
              "<table border=\"1\" class=\"dataframe\">\n",
              "  <thead>\n",
              "    <tr style=\"text-align: right;\">\n",
              "      <th></th>\n",
              "      <th>flight</th>\n",
              "      <th>time</th>\n",
              "      <th>alt_smooth</th>\n",
              "      <th>time1</th>\n",
              "      <th>time2</th>\n",
              "      <th>alt_smooth1</th>\n",
              "      <th>alt_smooth2</th>\n",
              "      <th>Apogee</th>\n",
              "    </tr>\n",
              "  </thead>\n",
              "  <tbody>\n",
              "    <tr>\n",
              "      <th>0</th>\n",
              "      <td>2</td>\n",
              "      <td>0.00</td>\n",
              "      <td>0.993827</td>\n",
              "      <td>NaN</td>\n",
              "      <td>NaN</td>\n",
              "      <td>NaN</td>\n",
              "      <td>NaN</td>\n",
              "      <td>NaN</td>\n",
              "    </tr>\n",
              "    <tr>\n",
              "      <th>1</th>\n",
              "      <td>2</td>\n",
              "      <td>0.15</td>\n",
              "      <td>1.033509</td>\n",
              "      <td>NaN</td>\n",
              "      <td>NaN</td>\n",
              "      <td>NaN</td>\n",
              "      <td>NaN</td>\n",
              "      <td>NaN</td>\n",
              "    </tr>\n",
              "    <tr>\n",
              "      <th>2</th>\n",
              "      <td>2</td>\n",
              "      <td>0.20</td>\n",
              "      <td>1.016268</td>\n",
              "      <td>NaN</td>\n",
              "      <td>NaN</td>\n",
              "      <td>NaN</td>\n",
              "      <td>NaN</td>\n",
              "      <td>NaN</td>\n",
              "    </tr>\n",
              "    <tr>\n",
              "      <th>3</th>\n",
              "      <td>2</td>\n",
              "      <td>0.30</td>\n",
              "      <td>0.996657</td>\n",
              "      <td>NaN</td>\n",
              "      <td>NaN</td>\n",
              "      <td>NaN</td>\n",
              "      <td>NaN</td>\n",
              "      <td>NaN</td>\n",
              "    </tr>\n",
              "    <tr>\n",
              "      <th>4</th>\n",
              "      <td>2</td>\n",
              "      <td>0.45</td>\n",
              "      <td>0.973258</td>\n",
              "      <td>0.00</td>\n",
              "      <td>NaN</td>\n",
              "      <td>0.993827</td>\n",
              "      <td>NaN</td>\n",
              "      <td>NaN</td>\n",
              "    </tr>\n",
              "    <tr>\n",
              "      <th>...</th>\n",
              "      <td>...</td>\n",
              "      <td>...</td>\n",
              "      <td>...</td>\n",
              "      <td>...</td>\n",
              "      <td>...</td>\n",
              "      <td>...</td>\n",
              "      <td>...</td>\n",
              "      <td>...</td>\n",
              "    </tr>\n",
              "    <tr>\n",
              "      <th>541</th>\n",
              "      <td>2</td>\n",
              "      <td>27.45</td>\n",
              "      <td>8.136769</td>\n",
              "      <td>27.25</td>\n",
              "      <td>27.05</td>\n",
              "      <td>15.939137</td>\n",
              "      <td>23.210535</td>\n",
              "      <td>-163.841538</td>\n",
              "    </tr>\n",
              "    <tr>\n",
              "      <th>542</th>\n",
              "      <td>2</td>\n",
              "      <td>27.50</td>\n",
              "      <td>6.267821</td>\n",
              "      <td>27.30</td>\n",
              "      <td>27.10</td>\n",
              "      <td>13.962604</td>\n",
              "      <td>21.244956</td>\n",
              "      <td>-209.076328</td>\n",
              "    </tr>\n",
              "    <tr>\n",
              "      <th>543</th>\n",
              "      <td>2</td>\n",
              "      <td>27.55</td>\n",
              "      <td>4.398069</td>\n",
              "      <td>27.35</td>\n",
              "      <td>27.15</td>\n",
              "      <td>11.967186</td>\n",
              "      <td>19.866312</td>\n",
              "      <td>-82.405157</td>\n",
              "    </tr>\n",
              "    <tr>\n",
              "      <th>544</th>\n",
              "      <td>2</td>\n",
              "      <td>27.60</td>\n",
              "      <td>2.525313</td>\n",
              "      <td>27.40</td>\n",
              "      <td>27.20</td>\n",
              "      <td>10.035654</td>\n",
              "      <td>17.926133</td>\n",
              "      <td>-71.665281</td>\n",
              "    </tr>\n",
              "    <tr>\n",
              "      <th>545</th>\n",
              "      <td>2</td>\n",
              "      <td>27.85</td>\n",
              "      <td>0.985112</td>\n",
              "      <td>27.45</td>\n",
              "      <td>27.25</td>\n",
              "      <td>8.136769</td>\n",
              "      <td>15.939137</td>\n",
              "      <td>-0.527539</td>\n",
              "    </tr>\n",
              "  </tbody>\n",
              "</table>\n",
              "<p>546 rows × 8 columns</p>\n",
              "</div>"
            ],
            "text/plain": [
              "     flight   time  alt_smooth  ...  alt_smooth1  alt_smooth2      Apogee\n",
              "0         2   0.00    0.993827  ...          NaN          NaN         NaN\n",
              "1         2   0.15    1.033509  ...          NaN          NaN         NaN\n",
              "2         2   0.20    1.016268  ...          NaN          NaN         NaN\n",
              "3         2   0.30    0.996657  ...          NaN          NaN         NaN\n",
              "4         2   0.45    0.973258  ...     0.993827          NaN         NaN\n",
              "..      ...    ...         ...  ...          ...          ...         ...\n",
              "541       2  27.45    8.136769  ...    15.939137    23.210535 -163.841538\n",
              "542       2  27.50    6.267821  ...    13.962604    21.244956 -209.076328\n",
              "543       2  27.55    4.398069  ...    11.967186    19.866312  -82.405157\n",
              "544       2  27.60    2.525313  ...    10.035654    17.926133  -71.665281\n",
              "545       2  27.85    0.985112  ...     8.136769    15.939137   -0.527539\n",
              "\n",
              "[546 rows x 8 columns]"
            ]
          },
          "metadata": {
            "tags": []
          },
          "execution_count": 181
        }
      ]
    },
    {
      "cell_type": "code",
      "metadata": {
        "id": "6L_sTq2EnKkc",
        "colab": {
          "base_uri": "https://localhost:8080/",
          "height": 765
        },
        "outputId": "380ceb00-2c43-4d84-af4b-f061b359ab69"
      },
      "source": [
        "flight_1[flight_1['Apogee'] < 1000][flight_1['Apogee'] > 0].plot(['time', 'time'], ['Apogee', 'alt_smooth'],\n",
        "                                                           grid=True, figsize=(24, 12), kind='scatter',\n",
        "                                                           xticks=range(0, 30, 1),yticks=range(0, 1000, 50))\n",
        "# flight_1[flight_1['Apogee'] < 1000][flight_1['Apogee'] > 0].plot('time', 'Apogee',\n",
        "#                                                            grid=True, figsize=(12, 8), kind='scatter',\n",
        "#                                                            colormap = 'jet')\n",
        "# flight_1[flight_1['Apogee'] < 1000][flight_1['Apogee'] > 0].plot('time','alt_smooth',\n",
        "#                                                            grid=True, figsize=(12, 8), kind='scatter',\n",
        "#                                                            colormap = 'jet')"
      ],
      "execution_count": null,
      "outputs": [
        {
          "output_type": "stream",
          "text": [
            "/usr/local/lib/python3.6/dist-packages/ipykernel_launcher.py:1: UserWarning: Boolean Series key will be reindexed to match DataFrame index.\n",
            "  \"\"\"Entry point for launching an IPython kernel.\n"
          ],
          "name": "stderr"
        },
        {
          "output_type": "execute_result",
          "data": {
            "text/plain": [
              "<matplotlib.axes._subplots.AxesSubplot at 0x7f740c28ddd8>"
            ]
          },
          "metadata": {
            "tags": []
          },
          "execution_count": 194
        },
        {
          "output_type": "display_data",
          "data": {
            "image/png": "[encoded data removed]",
            "text/plain": [
              "<Figure size 1728x864 with 1 Axes>"
            ]
          },
          "metadata": {
            "tags": [],
            "needs_background": "light"
          }
        }
      ]
    },
    {
      "cell_type": "code",
      "metadata": {
        "id": "sSBOErIEooZD"
      },
      "source": [
        ""
      ],
      "execution_count": null,
      "outputs": []
    }
  ]
}